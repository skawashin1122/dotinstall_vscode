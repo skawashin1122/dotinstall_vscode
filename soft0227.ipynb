{
  "nbformat": 4,
  "nbformat_minor": 0,
  "metadata": {
    "colab": {
      "provenance": [],
      "include_colab_link": true
    },
    "kernelspec": {
      "name": "python3",
      "display_name": "Python 3"
    },
    "language_info": {
      "name": "python"
    }
  },
  "cells": [
    {
      "cell_type": "markdown",
      "metadata": {
        "id": "view-in-github",
        "colab_type": "text"
      },
      "source": [
        "<a href=\"https://colab.research.google.com/github/skawashin1122/dotinstall_vscode/blob/master/soft0227.ipynb\" target=\"_parent\"><img src=\"https://colab.research.google.com/assets/colab-badge.svg\" alt=\"Open In Colab\"/></a>"
      ]
    },
    {
      "cell_type": "markdown",
      "source": [
        "# **３学期【ソフトウエア活用】学年末確認**"
      ],
      "metadata": {
        "id": "g3V9qLBt_TiW"
      }
    },
    {
      "cell_type": "markdown",
      "source": [
        "## ① Google ドライブを Google Colaboratory にマウントする\n",
        "\n",
        "```python\n",
        "from google.colab import drive\n",
        "drive.mount('/content/drive')\n",
        "```"
      ],
      "metadata": {
        "id": "7e8s3qd0qZlk"
      }
    },
    {
      "cell_type": "code",
      "source": [],
      "metadata": {
        "id": "MahjQPzHDZ5s"
      },
      "execution_count": null,
      "outputs": []
    },
    {
      "cell_type": "markdown",
      "source": [
        "## ② アップロードしたフォルダ（R5_endSoft）に移動する\n",
        "*   このフォルダを作業フォルダ（カレントディレクトリ）とする"
      ],
      "metadata": {
        "id": "JLr5O0QD0qab"
      }
    },
    {
      "cell_type": "code",
      "source": [],
      "metadata": {
        "id": "I5lyMpCsDbSM"
      },
      "execution_count": null,
      "outputs": []
    },
    {
      "cell_type": "markdown",
      "source": [],
      "metadata": {
        "id": "wKPU7fk99LER"
      }
    },
    {
      "cell_type": "markdown",
      "source": [
        "## ③ Pythonのデータ分析ライブラリをインポートする"
      ],
      "metadata": {
        "id": "fX8MbJdquIx1"
      }
    },
    {
      "cell_type": "code",
      "source": [],
      "metadata": {
        "id": "DOUQNMk7Dfui"
      },
      "execution_count": null,
      "outputs": []
    },
    {
      "cell_type": "markdown",
      "source": [
        "## ④ 次のデータフレーム（label_df）を作成する\n",
        "\n",
        "![表4](https://drive.google.com/uc?id=10tmKn9NcIcByvXR4gnWoO5iGA3apiG4F)"
      ],
      "metadata": {
        "id": "mJNXibftzEIK"
      }
    },
    {
      "cell_type": "code",
      "source": [],
      "metadata": {
        "id": "mbFBpvMqDkjI"
      },
      "execution_count": null,
      "outputs": []
    },
    {
      "cell_type": "markdown",
      "source": [
        "## ⑤ データフレーム（label_df）をExcelファイル（拡張子: xlsx）として出力する\n",
        "*   `ouptput`フォルダに**label.xlsx**として出力する\n",
        "*   インデックスは不要とする"
      ],
      "metadata": {
        "id": "lSyOgWnmqZ70"
      }
    },
    {
      "cell_type": "code",
      "source": [],
      "metadata": {
        "id": "rjJQUPnDDmij"
      },
      "execution_count": null,
      "outputs": []
    },
    {
      "cell_type": "markdown",
      "source": [
        "## ⑥ 次のCSVファイルをデータフレーム（sales_df）に読み込む\n",
        "*   `input`フォルダにある**sales_data.csv**ファイル（拡張子:csv）"
      ],
      "metadata": {
        "id": "jNhaJZUe3D4-"
      }
    },
    {
      "cell_type": "code",
      "source": [],
      "metadata": {
        "id": "xUV7H2b6DpvY"
      },
      "execution_count": null,
      "outputs": []
    },
    {
      "cell_type": "markdown",
      "source": [
        "## ⑦ データフレーム（sales_df）の以下の情報を表示する\n",
        "1.   要約情報\n",
        "2.   行、列\n",
        "\n"
      ],
      "metadata": {
        "id": "CyaTMsKw4qjb"
      }
    },
    {
      "cell_type": "code",
      "source": [],
      "metadata": {
        "id": "fEUJ3uElDqfX"
      },
      "execution_count": null,
      "outputs": []
    },
    {
      "cell_type": "markdown",
      "source": [
        "## ⑧ データフレーム（sales_df）に新たに「売上金額」カラムを追加する\n",
        "*   数量に単価を乗じて売上金額を求める\n"
      ],
      "metadata": {
        "id": "M5VyDOeQ5JfQ"
      }
    },
    {
      "cell_type": "code",
      "source": [],
      "metadata": {
        "id": "7I5SZI3iDwuO"
      },
      "execution_count": null,
      "outputs": []
    },
    {
      "cell_type": "markdown",
      "source": [
        "##⑨ データフレーム（sales_df）の「売上日」の型を変換する\n",
        "*   売上日（文字列型）　→　売上日（日付型）"
      ],
      "metadata": {
        "id": "DsVMOu4x5DUv"
      }
    },
    {
      "cell_type": "code",
      "source": [],
      "metadata": {
        "id": "xQ6vrcNhD1vi"
      },
      "execution_count": null,
      "outputs": []
    },
    {
      "cell_type": "markdown",
      "source": [
        "## ⑩ データフレーム（sales_df）の「売上日」を指定したフォーマットの文字列に変換して、以下を追加する\n",
        "1.   年のみを抽出して「年」カラムを追加\n",
        "2.   月のみを抽出して「月」カラムを追加\n",
        "3.   日のみを抽出して「日」カラムを追加"
      ],
      "metadata": {
        "id": "DO_wUFUO89Wf"
      }
    },
    {
      "cell_type": "code",
      "source": [],
      "metadata": {
        "id": "0B5QXhgfD5_4"
      },
      "execution_count": null,
      "outputs": []
    },
    {
      "cell_type": "markdown",
      "source": [
        "##⑪ データフレーム（df）の「商品名」に含まれる以下の表記ゆれを統一する\n",
        "1.   商品名に含まれる**半角スペース**を除去\n",
        "2.   商品名に含まれる**全角スペース**を除去\n",
        "3.   \"**リッチ抹茶ロール**\" を \"**濃厚抹茶ロール**\" に統一\n",
        "4.   \"**特選おでんセット**\" を \"**おでんセット**\" に統一\n",
        "\n",
        "**※ 取扱商品は12種類です**"
      ],
      "metadata": {
        "id": "UDprj53tAZfk"
      }
    },
    {
      "cell_type": "code",
      "source": [],
      "metadata": {
        "id": "5VD5bDs8D8eo"
      },
      "execution_count": null,
      "outputs": []
    },
    {
      "cell_type": "markdown",
      "source": [
        "## ⑫ 以下の条件を満たすデータフレーム（sales_df）を抽出する\n",
        "\n",
        "*   「性別」が \"女\"\n",
        "*   「年齢層」が \"10代\"\n",
        "*   「月」が \"12\"\n",
        "\n"
      ],
      "metadata": {
        "id": "6fDjTVNWAnv4"
      }
    },
    {
      "cell_type": "code",
      "source": [],
      "metadata": {
        "id": "vplnHCwcEOxq"
      },
      "execution_count": null,
      "outputs": []
    },
    {
      "cell_type": "markdown",
      "source": [
        "## ⑬ データフレーム（sales_df）の商品名ごとに数量と売上金額の合計を求めたデータフレーム（product_df）を作成する\n",
        "*   元のインデックスは追加して、インデックスを振り直す\n",
        "\n",
        "**【完成例】**\n",
        "\n",
        "<img src=\"https://drive.google.com/uc?id=1ByKZO00PyAnF5UWewZdTMDnT45VSPdPV\" width='300px'>"
      ],
      "metadata": {
        "id": "rd8VBe2-FoSu"
      }
    },
    {
      "cell_type": "code",
      "source": [],
      "metadata": {
        "id": "SXgjdD-dEQel"
      },
      "execution_count": null,
      "outputs": []
    },
    {
      "cell_type": "markdown",
      "source": [
        "## ⑭ グラフ描画を日本語に対応させるために、日本語表示モジュールをインストールする"
      ],
      "metadata": {
        "id": "B3jcelyi28cC"
      }
    },
    {
      "cell_type": "code",
      "source": [],
      "metadata": {
        "id": "vseh-ANpESib"
      },
      "execution_count": null,
      "outputs": []
    },
    {
      "cell_type": "markdown",
      "source": [
        "## ⑮ グラフ描画に必要なライブラリとモジュールをインポートする\n",
        "1.   グラフ描画ライブラリのpyplotクラスをインポートする\n",
        "2.   日本語表示モジュールをインポートする"
      ],
      "metadata": {
        "id": "l38phzG2Gqn1"
      }
    },
    {
      "cell_type": "code",
      "source": [],
      "metadata": {
        "id": "jyGlEt_eEUP_"
      },
      "execution_count": null,
      "outputs": []
    },
    {
      "cell_type": "markdown",
      "source": [
        "## ⑯ データフレーム（product_df）の棒グラフを描画して、PNGファイルを出力する\n",
        "*   横軸に**商品名**を表示する\n",
        "*   縦軸に**売上金額**を表示する\n",
        "*   グラフのタイトルは「**商品名別売上一覧表**」とする\n",
        "*   グラフの横軸ラベルが重ならないようにする\n",
        "*   出力先は `output` フォルダとする\n",
        "*   ファイル名は **graph.png** として出力する\n",
        "\n",
        "**【完成例】**\n",
        "\n",
        "<img src=\"https://drive.google.com/uc?id=1tamxkbEkroUflLUCgsPhFM3-yrlMSXHE\" width='400px'>"
      ],
      "metadata": {
        "id": "u71gGwtLHQ0T"
      }
    },
    {
      "cell_type": "code",
      "source": [],
      "metadata": {
        "id": "ku3cZI7lEXpt"
      },
      "execution_count": null,
      "outputs": []
    }
  ]
}